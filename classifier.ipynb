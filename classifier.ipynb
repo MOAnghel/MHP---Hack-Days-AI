{
 "cells": [
  {
   "cell_type": "code",
   "execution_count": 51,
   "outputs": [
    {
     "data": {
      "text/plain": "     row           room  capacity        date  nineToEleven  \\\n0      1       Pit-Lane         4  01/01/2024          True   \n1      2       Dry-lane         4  01/01/2024          True   \n2      3      Joker Lap         4  01/01/2024          True   \n3      4        Quick 8         8  01/01/2024          True   \n4      5  Pole Position        20  01/01/2024         False   \n..   ...            ...       ...         ...           ...   \n385  386       Dry-lane         4  29/03/2024         False   \n386  387      Joker Lap         4  29/03/2024         False   \n387  388        Quick 8         8  29/03/2024         False   \n388  389  Pole Position        20  29/03/2024         False   \n389  390        Cockpit        10  29/03/2024          True   \n\n     attendanceNineToEleven  elevenToOne  attendanceElevenToOne  oneToThree  \\\n0                       2.0         True                    3.0       False   \n1                       4.0        False                    NaN       False   \n2                       4.0        False                    NaN        True   \n3                       7.0        False                    NaN        True   \n4                       NaN         True                   14.0        True   \n..                      ...          ...                    ...         ...   \n385                     NaN         True                    3.0       False   \n386                     NaN         True                    2.0        True   \n387                     NaN         True                    6.0        True   \n388                     NaN         True                   10.0        True   \n389                     7.0        False                    NaN        True   \n\n     attendanceOneToThree  threeToFive  attendanceThreeToFive  \n0                     NaN        False                    NaN  \n1                     NaN        False                    NaN  \n2                     4.0        False                    NaN  \n3                     8.0        False                    NaN  \n4                    15.0         True                   16.0  \n..                    ...          ...                    ...  \n385                   NaN        False                    NaN  \n386                   4.0        False                    NaN  \n387                   5.0         True                    7.0  \n388                  17.0         True                   18.0  \n389                   9.0         True                    7.0  \n\n[390 rows x 12 columns]",
      "text/html": "<div>\n<style scoped>\n    .dataframe tbody tr th:only-of-type {\n        vertical-align: middle;\n    }\n\n    .dataframe tbody tr th {\n        vertical-align: top;\n    }\n\n    .dataframe thead th {\n        text-align: right;\n    }\n</style>\n<table border=\"1\" class=\"dataframe\">\n  <thead>\n    <tr style=\"text-align: right;\">\n      <th></th>\n      <th>row</th>\n      <th>room</th>\n      <th>capacity</th>\n      <th>date</th>\n      <th>nineToEleven</th>\n      <th>attendanceNineToEleven</th>\n      <th>elevenToOne</th>\n      <th>attendanceElevenToOne</th>\n      <th>oneToThree</th>\n      <th>attendanceOneToThree</th>\n      <th>threeToFive</th>\n      <th>attendanceThreeToFive</th>\n    </tr>\n  </thead>\n  <tbody>\n    <tr>\n      <th>0</th>\n      <td>1</td>\n      <td>Pit-Lane</td>\n      <td>4</td>\n      <td>01/01/2024</td>\n      <td>True</td>\n      <td>2.0</td>\n      <td>True</td>\n      <td>3.0</td>\n      <td>False</td>\n      <td>NaN</td>\n      <td>False</td>\n      <td>NaN</td>\n    </tr>\n    <tr>\n      <th>1</th>\n      <td>2</td>\n      <td>Dry-lane</td>\n      <td>4</td>\n      <td>01/01/2024</td>\n      <td>True</td>\n      <td>4.0</td>\n      <td>False</td>\n      <td>NaN</td>\n      <td>False</td>\n      <td>NaN</td>\n      <td>False</td>\n      <td>NaN</td>\n    </tr>\n    <tr>\n      <th>2</th>\n      <td>3</td>\n      <td>Joker Lap</td>\n      <td>4</td>\n      <td>01/01/2024</td>\n      <td>True</td>\n      <td>4.0</td>\n      <td>False</td>\n      <td>NaN</td>\n      <td>True</td>\n      <td>4.0</td>\n      <td>False</td>\n      <td>NaN</td>\n    </tr>\n    <tr>\n      <th>3</th>\n      <td>4</td>\n      <td>Quick 8</td>\n      <td>8</td>\n      <td>01/01/2024</td>\n      <td>True</td>\n      <td>7.0</td>\n      <td>False</td>\n      <td>NaN</td>\n      <td>True</td>\n      <td>8.0</td>\n      <td>False</td>\n      <td>NaN</td>\n    </tr>\n    <tr>\n      <th>4</th>\n      <td>5</td>\n      <td>Pole Position</td>\n      <td>20</td>\n      <td>01/01/2024</td>\n      <td>False</td>\n      <td>NaN</td>\n      <td>True</td>\n      <td>14.0</td>\n      <td>True</td>\n      <td>15.0</td>\n      <td>True</td>\n      <td>16.0</td>\n    </tr>\n    <tr>\n      <th>...</th>\n      <td>...</td>\n      <td>...</td>\n      <td>...</td>\n      <td>...</td>\n      <td>...</td>\n      <td>...</td>\n      <td>...</td>\n      <td>...</td>\n      <td>...</td>\n      <td>...</td>\n      <td>...</td>\n      <td>...</td>\n    </tr>\n    <tr>\n      <th>385</th>\n      <td>386</td>\n      <td>Dry-lane</td>\n      <td>4</td>\n      <td>29/03/2024</td>\n      <td>False</td>\n      <td>NaN</td>\n      <td>True</td>\n      <td>3.0</td>\n      <td>False</td>\n      <td>NaN</td>\n      <td>False</td>\n      <td>NaN</td>\n    </tr>\n    <tr>\n      <th>386</th>\n      <td>387</td>\n      <td>Joker Lap</td>\n      <td>4</td>\n      <td>29/03/2024</td>\n      <td>False</td>\n      <td>NaN</td>\n      <td>True</td>\n      <td>2.0</td>\n      <td>True</td>\n      <td>4.0</td>\n      <td>False</td>\n      <td>NaN</td>\n    </tr>\n    <tr>\n      <th>387</th>\n      <td>388</td>\n      <td>Quick 8</td>\n      <td>8</td>\n      <td>29/03/2024</td>\n      <td>False</td>\n      <td>NaN</td>\n      <td>True</td>\n      <td>6.0</td>\n      <td>True</td>\n      <td>5.0</td>\n      <td>True</td>\n      <td>7.0</td>\n    </tr>\n    <tr>\n      <th>388</th>\n      <td>389</td>\n      <td>Pole Position</td>\n      <td>20</td>\n      <td>29/03/2024</td>\n      <td>False</td>\n      <td>NaN</td>\n      <td>True</td>\n      <td>10.0</td>\n      <td>True</td>\n      <td>17.0</td>\n      <td>True</td>\n      <td>18.0</td>\n    </tr>\n    <tr>\n      <th>389</th>\n      <td>390</td>\n      <td>Cockpit</td>\n      <td>10</td>\n      <td>29/03/2024</td>\n      <td>True</td>\n      <td>7.0</td>\n      <td>False</td>\n      <td>NaN</td>\n      <td>True</td>\n      <td>9.0</td>\n      <td>True</td>\n      <td>7.0</td>\n    </tr>\n  </tbody>\n</table>\n<p>390 rows × 12 columns</p>\n</div>"
     },
     "execution_count": 51,
     "metadata": {},
     "output_type": "execute_result"
    }
   ],
   "source": [
    "import numpy as np\n",
    "import pandas as pd\n",
    "\n",
    "df = pd.read_csv(\"meeting-rooms.csv\")\n",
    "\n",
    "df"
   ],
   "metadata": {
    "collapsed": false,
    "ExecuteTime": {
     "end_time": "2024-03-16T16:19:32.858694700Z",
     "start_time": "2024-03-16T16:19:32.475557300Z"
    }
   },
   "id": "d9889107c240082e"
  },
  {
   "cell_type": "code",
   "execution_count": 52,
   "outputs": [],
   "source": [
    "features = [\"row\", \"capacity\", \"attendanceNineToEleven\", \"attendanceElevenToOne\", \"attendanceOneToThree\",\n",
    "            \"attendanceThreeToFive\"]\n",
    "target = [\"nineToEleven\", \"elevenToOne\", \"oneToThree\", \"threeToFive\"]\n",
    "rooms = [\"Pit-Lane\", \"Dry-lane\", \"Joker Lap\", \"Quick 8\", \"Pole Position\", \"Cockpit\"]\n",
    "\n",
    "\n",
    "def get_train_data_for_room(df, features, target, room):\n",
    "    room_df = df.loc[df.room == room]\n",
    "    X = room_df[features]\n",
    "    y = room_df[target]\n",
    "\n",
    "    return X, y"
   ],
   "metadata": {
    "collapsed": false,
    "ExecuteTime": {
     "end_time": "2024-03-16T16:19:32.978283Z",
     "start_time": "2024-03-16T16:19:32.824938500Z"
    }
   },
   "id": "e92b0dd76b841071"
  },
  {
   "cell_type": "code",
   "execution_count": 53,
   "outputs": [],
   "source": [
    "from sklearn.ensemble import RandomForestClassifier\n",
    "from sklearn.metrics import accuracy_score\n",
    "from sklearn.model_selection import cross_val_score, KFold\n",
    "\n",
    "model_classifier = RandomForestClassifier(n_estimators=50)\n",
    "\n",
    "# cv_scores = cross_val_score(model, X, y, cv=5)\n",
    "# \n",
    "# print(\"Cross-validation scores: \", cv_scores)\n",
    "# print(\"Mean accuracy:\", cv_scores.mean())"
   ],
   "metadata": {
    "collapsed": false,
    "ExecuteTime": {
     "end_time": "2024-03-16T16:19:33.427253800Z",
     "start_time": "2024-03-16T16:19:32.925405700Z"
    }
   },
   "id": "b470bde9cc60829f"
  },
  {
   "cell_type": "code",
   "execution_count": 54,
   "outputs": [
    {
     "name": "stdout",
     "output_type": "stream",
     "text": [
      "Cross-validation for Pit-Lane\n",
      "Fold 0\n",
      "Accuracy: 1.0\n",
      "Fold 1\n",
      "Accuracy: 0.9230769230769231\n",
      "Fold 2\n",
      "Accuracy: 1.0\n",
      "Fold 3\n",
      "Accuracy: 1.0\n",
      "Fold 4\n",
      "Accuracy: 1.0\n",
      "Mean accuracy:  0.9846153846153847\n",
      "Cross-validation for Dry-lane\n",
      "Fold 0\n",
      "Accuracy: 1.0\n",
      "Fold 1\n",
      "Accuracy: 0.8461538461538461\n",
      "Fold 2\n",
      "Accuracy: 1.0\n",
      "Fold 3\n",
      "Accuracy: 1.0\n",
      "Fold 4\n",
      "Accuracy: 1.0\n",
      "Mean accuracy:  0.9692307692307693\n",
      "Cross-validation for Joker Lap\n",
      "Fold 0\n",
      "Accuracy: 1.0\n",
      "Fold 1\n",
      "Accuracy: 1.0\n",
      "Fold 2\n",
      "Accuracy: 1.0\n",
      "Fold 3\n",
      "Accuracy: 1.0\n",
      "Fold 4\n",
      "Accuracy: 1.0\n",
      "Mean accuracy:  1.0\n",
      "Cross-validation for Quick 8\n",
      "Fold 0\n",
      "Accuracy: 1.0\n",
      "Fold 1\n",
      "Accuracy: 1.0\n",
      "Fold 2\n",
      "Accuracy: 1.0\n",
      "Fold 3\n",
      "Accuracy: 1.0\n",
      "Fold 4\n",
      "Accuracy: 1.0\n",
      "Mean accuracy:  1.0\n",
      "Cross-validation for Pole Position\n",
      "Fold 0\n",
      "Accuracy: 0.8461538461538461\n",
      "Fold 1\n",
      "Accuracy: 1.0\n",
      "Fold 2\n",
      "Accuracy: 1.0\n",
      "Fold 3\n",
      "Accuracy: 0.8461538461538461\n",
      "Fold 4\n",
      "Accuracy: 1.0\n",
      "Mean accuracy:  0.9384615384615385\n",
      "Cross-validation for Cockpit\n",
      "Fold 0\n",
      "Accuracy: 0.9230769230769231\n",
      "Fold 1\n",
      "Accuracy: 1.0\n",
      "Fold 2\n",
      "Accuracy: 1.0\n",
      "Fold 3\n",
      "Accuracy: 1.0\n",
      "Fold 4\n",
      "Accuracy: 0.9230769230769231\n",
      "Mean accuracy:  0.9692307692307693\n"
     ]
    }
   ],
   "source": [
    "def cross_validation(clf, X, y):\n",
    "    k_fold = KFold(n_splits=5, shuffle=True)\n",
    "\n",
    "    fold = 0\n",
    "    accs = []\n",
    "\n",
    "    for train_idx, val_idx in k_fold.split(X, y):\n",
    "        X_tr = X.iloc[train_idx]\n",
    "        y_tr = y.iloc[train_idx]\n",
    "\n",
    "        X_tst = X.iloc[val_idx]\n",
    "        y_tst = y.iloc[val_idx]\n",
    "\n",
    "        clf.fit(X_tr, y_tr)\n",
    "        pred = clf.predict(X_tst)\n",
    "        acc_score = accuracy_score(y_tst, pred)\n",
    "        print(f\"Fold {fold}\")\n",
    "        print(f\"Accuracy: {acc_score}\")\n",
    "        accs.append(acc_score)\n",
    "        fold += 1\n",
    "\n",
    "    print(\"Mean accuracy: \", np.mean(accs))\n",
    "    \n",
    "    return clf\n",
    "\n",
    "\n",
    "def validate_for_each_room(clf, rooms):\n",
    "    for room in rooms:\n",
    "        X, y = get_train_data_for_room(df, features, target, room)\n",
    "        print(f\"Cross-validation for {room}\")\n",
    "        cross_validation(clf,X, y)\n",
    "\n",
    "\n",
    "validate_for_each_room(model_classifier,rooms)"
   ],
   "metadata": {
    "collapsed": false,
    "ExecuteTime": {
     "end_time": "2024-03-16T16:19:42.392412600Z",
     "start_time": "2024-03-16T16:19:33.013850300Z"
    }
   },
   "id": "3adff17a22569a36"
  },
  {
   "cell_type": "code",
   "execution_count": 55,
   "outputs": [
    {
     "name": "stdout",
     "output_type": "stream",
     "text": [
      "   row             desk        date  firstHalf  secondHalf\n",
      "0    1  CLUJ_5_beta_1.1  01/01/2024      False        True\n",
      "1    2  CLUJ_5_beta_1.2  01/01/2024       True       False\n",
      "2    3  CLUJ_5_beta_1.3  01/01/2024      False        True\n",
      "3    4  CLUJ_5_beta_1.4  01/01/2024       True       False\n",
      "4    5  CLUJ_5_beta_2.1  01/01/2024       True        True\n",
      "(8775, 5)\n"
     ]
    }
   ],
   "source": [
    "desks = pd.read_csv(\"hackathon-schema.csv\")\n",
    "print(desks.head())\n",
    "print(desks.shape)"
   ],
   "metadata": {
    "collapsed": false,
    "ExecuteTime": {
     "end_time": "2024-03-16T16:19:42.460497300Z",
     "start_time": "2024-03-16T16:19:42.392412600Z"
    }
   },
   "id": "ae47cc572e00dda5"
  },
  {
   "cell_type": "code",
   "execution_count": 56,
   "outputs": [
    {
     "name": "stdout",
     "output_type": "stream",
     "text": [
      "2193\n",
      "135\n"
     ]
    }
   ],
   "source": [
    "print(len(desks)//4)\n",
    "total_number_of_desk_groups = 33\n",
    "number_of_groups_with_four_desks = 31\n",
    "desks_group_19 = 6\n",
    "desks_group_18 = 5\n",
    "number_of_desks = number_of_groups_with_four_desks * 4\n",
    "print(number_of_desks + desks_group_18 + desks_group_19)"
   ],
   "metadata": {
    "collapsed": false,
    "ExecuteTime": {
     "end_time": "2024-03-16T16:19:42.481124400Z",
     "start_time": "2024-03-16T16:19:42.459496500Z"
    }
   },
   "id": "124646062cfd8455"
  },
  {
   "cell_type": "code",
   "execution_count": 59,
   "outputs": [],
   "source": [
    "# CLUJ_5_beta_1.1 -> CLUJ_5_beta_33.4\n",
    "format = \"CLUJ_5_beta_\"\n",
    "\n",
    "first_desk = format +\"1.1\"\n",
    "first_desk_df = desks.loc[desks.desk == first_desk]\n",
    "first_desk_df\n",
    "\n",
    "def split_date(df):\n",
    "    df[[\"day\",\"month\",\"year\"]] = df[\"date\"].str.split('/', expand=True)\n",
    "    df = df.drop(\"date\", axis=1)\n",
    "    return df"
   ],
   "metadata": {
    "collapsed": false,
    "ExecuteTime": {
     "end_time": "2024-03-16T16:36:39.316109500Z",
     "start_time": "2024-03-16T16:36:39.167408200Z"
    }
   },
   "id": "6428f5f17e2c58ec"
  },
  {
   "cell_type": "code",
   "execution_count": 60,
   "outputs": [
    {
     "name": "stderr",
     "output_type": "stream",
     "text": [
      "C:\\Users\\User\\AppData\\Local\\Temp\\ipykernel_9480\\101246109.py:9: SettingWithCopyWarning: \n",
      "A value is trying to be set on a copy of a slice from a DataFrame.\n",
      "Try using .loc[row_indexer,col_indexer] = value instead\n",
      "\n",
      "See the caveats in the documentation: https://pandas.pydata.org/pandas-docs/stable/user_guide/indexing.html#returning-a-view-versus-a-copy\n",
      "  df[[\"day\",\"month\",\"year\"]] = df[\"date\"].str.split('/', expand=True)\n",
      "C:\\Users\\User\\AppData\\Local\\Temp\\ipykernel_9480\\101246109.py:9: SettingWithCopyWarning: \n",
      "A value is trying to be set on a copy of a slice from a DataFrame.\n",
      "Try using .loc[row_indexer,col_indexer] = value instead\n",
      "\n",
      "See the caveats in the documentation: https://pandas.pydata.org/pandas-docs/stable/user_guide/indexing.html#returning-a-view-versus-a-copy\n",
      "  df[[\"day\",\"month\",\"year\"]] = df[\"date\"].str.split('/', expand=True)\n",
      "C:\\Users\\User\\AppData\\Local\\Temp\\ipykernel_9480\\101246109.py:9: SettingWithCopyWarning: \n",
      "A value is trying to be set on a copy of a slice from a DataFrame.\n",
      "Try using .loc[row_indexer,col_indexer] = value instead\n",
      "\n",
      "See the caveats in the documentation: https://pandas.pydata.org/pandas-docs/stable/user_guide/indexing.html#returning-a-view-versus-a-copy\n",
      "  df[[\"day\",\"month\",\"year\"]] = df[\"date\"].str.split('/', expand=True)\n"
     ]
    },
    {
     "data": {
      "text/plain": "       row             desk  firstHalf  secondHalf day month  year\n0        1  CLUJ_5_beta_1.1      False        True  01    01  2024\n135    136  CLUJ_5_beta_1.1      False       False  02    01  2024\n270    271  CLUJ_5_beta_1.1       True       False  03    01  2024\n405    406  CLUJ_5_beta_1.1      False        True  04    01  2024\n540    541  CLUJ_5_beta_1.1      False        True  05    01  2024\n...    ...              ...        ...         ...  ..   ...   ...\n8100  8101  CLUJ_5_beta_1.1       True       False  25    03  2024\n8235  8236  CLUJ_5_beta_1.1      False       False  26    03  2024\n8370  8371  CLUJ_5_beta_1.1       True       False  27    03  2024\n8505  8506  CLUJ_5_beta_1.1      False        True  28    03  2024\n8640  8641  CLUJ_5_beta_1.1       True       False  29    03  2024\n\n[65 rows x 7 columns]",
      "text/html": "<div>\n<style scoped>\n    .dataframe tbody tr th:only-of-type {\n        vertical-align: middle;\n    }\n\n    .dataframe tbody tr th {\n        vertical-align: top;\n    }\n\n    .dataframe thead th {\n        text-align: right;\n    }\n</style>\n<table border=\"1\" class=\"dataframe\">\n  <thead>\n    <tr style=\"text-align: right;\">\n      <th></th>\n      <th>row</th>\n      <th>desk</th>\n      <th>firstHalf</th>\n      <th>secondHalf</th>\n      <th>day</th>\n      <th>month</th>\n      <th>year</th>\n    </tr>\n  </thead>\n  <tbody>\n    <tr>\n      <th>0</th>\n      <td>1</td>\n      <td>CLUJ_5_beta_1.1</td>\n      <td>False</td>\n      <td>True</td>\n      <td>01</td>\n      <td>01</td>\n      <td>2024</td>\n    </tr>\n    <tr>\n      <th>135</th>\n      <td>136</td>\n      <td>CLUJ_5_beta_1.1</td>\n      <td>False</td>\n      <td>False</td>\n      <td>02</td>\n      <td>01</td>\n      <td>2024</td>\n    </tr>\n    <tr>\n      <th>270</th>\n      <td>271</td>\n      <td>CLUJ_5_beta_1.1</td>\n      <td>True</td>\n      <td>False</td>\n      <td>03</td>\n      <td>01</td>\n      <td>2024</td>\n    </tr>\n    <tr>\n      <th>405</th>\n      <td>406</td>\n      <td>CLUJ_5_beta_1.1</td>\n      <td>False</td>\n      <td>True</td>\n      <td>04</td>\n      <td>01</td>\n      <td>2024</td>\n    </tr>\n    <tr>\n      <th>540</th>\n      <td>541</td>\n      <td>CLUJ_5_beta_1.1</td>\n      <td>False</td>\n      <td>True</td>\n      <td>05</td>\n      <td>01</td>\n      <td>2024</td>\n    </tr>\n    <tr>\n      <th>...</th>\n      <td>...</td>\n      <td>...</td>\n      <td>...</td>\n      <td>...</td>\n      <td>...</td>\n      <td>...</td>\n      <td>...</td>\n    </tr>\n    <tr>\n      <th>8100</th>\n      <td>8101</td>\n      <td>CLUJ_5_beta_1.1</td>\n      <td>True</td>\n      <td>False</td>\n      <td>25</td>\n      <td>03</td>\n      <td>2024</td>\n    </tr>\n    <tr>\n      <th>8235</th>\n      <td>8236</td>\n      <td>CLUJ_5_beta_1.1</td>\n      <td>False</td>\n      <td>False</td>\n      <td>26</td>\n      <td>03</td>\n      <td>2024</td>\n    </tr>\n    <tr>\n      <th>8370</th>\n      <td>8371</td>\n      <td>CLUJ_5_beta_1.1</td>\n      <td>True</td>\n      <td>False</td>\n      <td>27</td>\n      <td>03</td>\n      <td>2024</td>\n    </tr>\n    <tr>\n      <th>8505</th>\n      <td>8506</td>\n      <td>CLUJ_5_beta_1.1</td>\n      <td>False</td>\n      <td>True</td>\n      <td>28</td>\n      <td>03</td>\n      <td>2024</td>\n    </tr>\n    <tr>\n      <th>8640</th>\n      <td>8641</td>\n      <td>CLUJ_5_beta_1.1</td>\n      <td>True</td>\n      <td>False</td>\n      <td>29</td>\n      <td>03</td>\n      <td>2024</td>\n    </tr>\n  </tbody>\n</table>\n<p>65 rows × 7 columns</p>\n</div>"
     },
     "execution_count": 60,
     "metadata": {},
     "output_type": "execute_result"
    }
   ],
   "source": [
    "split_date(first_desk_df)"
   ],
   "metadata": {
    "collapsed": false,
    "ExecuteTime": {
     "end_time": "2024-03-16T16:36:40.024640500Z",
     "start_time": "2024-03-16T16:36:39.944859100Z"
    }
   },
   "id": "b36305e1ba97bfa8"
  },
  {
   "cell_type": "code",
   "execution_count": null,
   "outputs": [],
   "source": [],
   "metadata": {
    "collapsed": false,
    "ExecuteTime": {
     "start_time": "2024-03-16T16:19:42.565271800Z"
    }
   },
   "id": "ce1065142e0d5a72"
  }
 ],
 "metadata": {
  "kernelspec": {
   "display_name": "Python 3",
   "language": "python",
   "name": "python3"
  },
  "language_info": {
   "codemirror_mode": {
    "name": "ipython",
    "version": 2
   },
   "file_extension": ".py",
   "mimetype": "text/x-python",
   "name": "python",
   "nbconvert_exporter": "python",
   "pygments_lexer": "ipython2",
   "version": "2.7.6"
  }
 },
 "nbformat": 4,
 "nbformat_minor": 5
}
