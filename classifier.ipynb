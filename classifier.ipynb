{
 "cells": [
  {
   "cell_type": "code",
   "execution_count": 8,
   "outputs": [
    {
     "data": {
      "text/plain": "     row           room  capacity        date  nineToEleven  \\\n0      1       Pit-Lane         4  01/01/2024          True   \n1      2       Dry-lane         4  01/01/2024          True   \n2      3      Joker Lap         4  01/01/2024          True   \n3      4        Quick 8         8  01/01/2024          True   \n4      5  Pole Position        20  01/01/2024         False   \n..   ...            ...       ...         ...           ...   \n385  386       Dry-lane         4  29/03/2024         False   \n386  387      Joker Lap         4  29/03/2024         False   \n387  388        Quick 8         8  29/03/2024         False   \n388  389  Pole Position        20  29/03/2024         False   \n389  390        Cockpit        10  29/03/2024          True   \n\n     attendanceNineToEleven  elevenToOne  attendanceElevenToOne  oneToThree  \\\n0                       2.0         True                    3.0       False   \n1                       4.0        False                    NaN       False   \n2                       4.0        False                    NaN        True   \n3                       7.0        False                    NaN        True   \n4                       NaN         True                   14.0        True   \n..                      ...          ...                    ...         ...   \n385                     NaN         True                    3.0       False   \n386                     NaN         True                    2.0        True   \n387                     NaN         True                    6.0        True   \n388                     NaN         True                   10.0        True   \n389                     7.0        False                    NaN        True   \n\n     attendanceOneToThree  threeToFive  attendanceThreeToFive  \n0                     NaN        False                    NaN  \n1                     NaN        False                    NaN  \n2                     4.0        False                    NaN  \n3                     8.0        False                    NaN  \n4                    15.0         True                   16.0  \n..                    ...          ...                    ...  \n385                   NaN        False                    NaN  \n386                   4.0        False                    NaN  \n387                   5.0         True                    7.0  \n388                  17.0         True                   18.0  \n389                   9.0         True                    7.0  \n\n[390 rows x 12 columns]",
      "text/html": "<div>\n<style scoped>\n    .dataframe tbody tr th:only-of-type {\n        vertical-align: middle;\n    }\n\n    .dataframe tbody tr th {\n        vertical-align: top;\n    }\n\n    .dataframe thead th {\n        text-align: right;\n    }\n</style>\n<table border=\"1\" class=\"dataframe\">\n  <thead>\n    <tr style=\"text-align: right;\">\n      <th></th>\n      <th>row</th>\n      <th>room</th>\n      <th>capacity</th>\n      <th>date</th>\n      <th>nineToEleven</th>\n      <th>attendanceNineToEleven</th>\n      <th>elevenToOne</th>\n      <th>attendanceElevenToOne</th>\n      <th>oneToThree</th>\n      <th>attendanceOneToThree</th>\n      <th>threeToFive</th>\n      <th>attendanceThreeToFive</th>\n    </tr>\n  </thead>\n  <tbody>\n    <tr>\n      <th>0</th>\n      <td>1</td>\n      <td>Pit-Lane</td>\n      <td>4</td>\n      <td>01/01/2024</td>\n      <td>True</td>\n      <td>2.0</td>\n      <td>True</td>\n      <td>3.0</td>\n      <td>False</td>\n      <td>NaN</td>\n      <td>False</td>\n      <td>NaN</td>\n    </tr>\n    <tr>\n      <th>1</th>\n      <td>2</td>\n      <td>Dry-lane</td>\n      <td>4</td>\n      <td>01/01/2024</td>\n      <td>True</td>\n      <td>4.0</td>\n      <td>False</td>\n      <td>NaN</td>\n      <td>False</td>\n      <td>NaN</td>\n      <td>False</td>\n      <td>NaN</td>\n    </tr>\n    <tr>\n      <th>2</th>\n      <td>3</td>\n      <td>Joker Lap</td>\n      <td>4</td>\n      <td>01/01/2024</td>\n      <td>True</td>\n      <td>4.0</td>\n      <td>False</td>\n      <td>NaN</td>\n      <td>True</td>\n      <td>4.0</td>\n      <td>False</td>\n      <td>NaN</td>\n    </tr>\n    <tr>\n      <th>3</th>\n      <td>4</td>\n      <td>Quick 8</td>\n      <td>8</td>\n      <td>01/01/2024</td>\n      <td>True</td>\n      <td>7.0</td>\n      <td>False</td>\n      <td>NaN</td>\n      <td>True</td>\n      <td>8.0</td>\n      <td>False</td>\n      <td>NaN</td>\n    </tr>\n    <tr>\n      <th>4</th>\n      <td>5</td>\n      <td>Pole Position</td>\n      <td>20</td>\n      <td>01/01/2024</td>\n      <td>False</td>\n      <td>NaN</td>\n      <td>True</td>\n      <td>14.0</td>\n      <td>True</td>\n      <td>15.0</td>\n      <td>True</td>\n      <td>16.0</td>\n    </tr>\n    <tr>\n      <th>...</th>\n      <td>...</td>\n      <td>...</td>\n      <td>...</td>\n      <td>...</td>\n      <td>...</td>\n      <td>...</td>\n      <td>...</td>\n      <td>...</td>\n      <td>...</td>\n      <td>...</td>\n      <td>...</td>\n      <td>...</td>\n    </tr>\n    <tr>\n      <th>385</th>\n      <td>386</td>\n      <td>Dry-lane</td>\n      <td>4</td>\n      <td>29/03/2024</td>\n      <td>False</td>\n      <td>NaN</td>\n      <td>True</td>\n      <td>3.0</td>\n      <td>False</td>\n      <td>NaN</td>\n      <td>False</td>\n      <td>NaN</td>\n    </tr>\n    <tr>\n      <th>386</th>\n      <td>387</td>\n      <td>Joker Lap</td>\n      <td>4</td>\n      <td>29/03/2024</td>\n      <td>False</td>\n      <td>NaN</td>\n      <td>True</td>\n      <td>2.0</td>\n      <td>True</td>\n      <td>4.0</td>\n      <td>False</td>\n      <td>NaN</td>\n    </tr>\n    <tr>\n      <th>387</th>\n      <td>388</td>\n      <td>Quick 8</td>\n      <td>8</td>\n      <td>29/03/2024</td>\n      <td>False</td>\n      <td>NaN</td>\n      <td>True</td>\n      <td>6.0</td>\n      <td>True</td>\n      <td>5.0</td>\n      <td>True</td>\n      <td>7.0</td>\n    </tr>\n    <tr>\n      <th>388</th>\n      <td>389</td>\n      <td>Pole Position</td>\n      <td>20</td>\n      <td>29/03/2024</td>\n      <td>False</td>\n      <td>NaN</td>\n      <td>True</td>\n      <td>10.0</td>\n      <td>True</td>\n      <td>17.0</td>\n      <td>True</td>\n      <td>18.0</td>\n    </tr>\n    <tr>\n      <th>389</th>\n      <td>390</td>\n      <td>Cockpit</td>\n      <td>10</td>\n      <td>29/03/2024</td>\n      <td>True</td>\n      <td>7.0</td>\n      <td>False</td>\n      <td>NaN</td>\n      <td>True</td>\n      <td>9.0</td>\n      <td>True</td>\n      <td>7.0</td>\n    </tr>\n  </tbody>\n</table>\n<p>390 rows × 12 columns</p>\n</div>"
     },
     "execution_count": 8,
     "metadata": {},
     "output_type": "execute_result"
    }
   ],
   "source": [
    "import numpy as np\n",
    "import pandas as pd\n",
    "\n",
    "df = pd.read_csv(\"meeting-rooms.csv\")\n",
    "\n",
    "df"
   ],
   "metadata": {
    "collapsed": false,
    "ExecuteTime": {
     "end_time": "2024-03-16T14:55:39.113955700Z",
     "start_time": "2024-03-16T14:55:38.972303700Z"
    }
   },
   "id": "d9889107c240082e"
  },
  {
   "cell_type": "code",
   "execution_count": 9,
   "outputs": [],
   "source": [
    "features = [\"row\", \"capacity\", \"attendanceNineToEleven\", \"attendanceElevenToOne\", \"attendanceOneToThree\",\n",
    "            \"attendanceThreeToFive\"]\n",
    "target = [\"nineToEleven\", \"elevenToOne\", \"oneToThree\", \"threeToFive\"]\n",
    "rooms = [\"Pit-Lane\", \"Dry-lane\", \"Joker Lap\", \"Quick 8\", \"Pole Position\", \"Cockpit\"]\n",
    "\n",
    "\n",
    "def get_train_data_for_room(df, features, target, room):\n",
    "    room_df = df.loc[df.room == room]\n",
    "    X = room_df[features]\n",
    "    y = room_df[target]\n",
    "\n",
    "    return X, y"
   ],
   "metadata": {
    "collapsed": false,
    "ExecuteTime": {
     "end_time": "2024-03-16T14:55:39.160797600Z",
     "start_time": "2024-03-16T14:55:38.997970100Z"
    }
   },
   "id": "e92b0dd76b841071"
  },
  {
   "cell_type": "code",
   "execution_count": 10,
   "outputs": [],
   "source": [
    "from sklearn.ensemble import RandomForestClassifier\n",
    "from sklearn.metrics import accuracy_score\n",
    "from sklearn.model_selection import cross_val_score, KFold\n",
    "\n",
    "model_classifier = RandomForestClassifier(n_estimators=50)\n",
    "\n",
    "# cv_scores = cross_val_score(model, X, y, cv=5)\n",
    "# \n",
    "# print(\"Cross-validation scores: \", cv_scores)\n",
    "# print(\"Mean accuracy:\", cv_scores.mean())"
   ],
   "metadata": {
    "collapsed": false,
    "ExecuteTime": {
     "end_time": "2024-03-16T14:55:39.183014900Z",
     "start_time": "2024-03-16T14:55:39.013591100Z"
    }
   },
   "id": "b470bde9cc60829f"
  },
  {
   "cell_type": "code",
   "execution_count": 11,
   "outputs": [
    {
     "name": "stdout",
     "output_type": "stream",
     "text": [
      "Cross-validation for Pit-Lane\n",
      "Fold 0\n",
      "Accuracy: 1.0\n",
      "Fold 1\n",
      "Accuracy: 1.0\n",
      "Fold 2\n",
      "Accuracy: 1.0\n",
      "Fold 3\n",
      "Accuracy: 1.0\n",
      "Fold 4\n",
      "Accuracy: 1.0\n",
      "Mean accuracy:  1.0\n",
      "Cross-validation for Dry-lane\n",
      "Fold 0\n",
      "Accuracy: 1.0\n",
      "Fold 1\n",
      "Accuracy: 1.0\n",
      "Fold 2\n",
      "Accuracy: 1.0\n",
      "Fold 3\n",
      "Accuracy: 1.0\n",
      "Fold 4\n",
      "Accuracy: 1.0\n",
      "Mean accuracy:  1.0\n",
      "Cross-validation for Joker Lap\n",
      "Fold 0\n",
      "Accuracy: 1.0\n",
      "Fold 1\n",
      "Accuracy: 1.0\n",
      "Fold 2\n",
      "Accuracy: 1.0\n",
      "Fold 3\n",
      "Accuracy: 1.0\n",
      "Fold 4\n",
      "Accuracy: 0.9230769230769231\n",
      "Mean accuracy:  0.9846153846153847\n",
      "Cross-validation for Quick 8\n",
      "Fold 0\n",
      "Accuracy: 1.0\n",
      "Fold 1\n",
      "Accuracy: 1.0\n",
      "Fold 2\n",
      "Accuracy: 0.9230769230769231\n",
      "Fold 3\n",
      "Accuracy: 1.0\n",
      "Fold 4\n",
      "Accuracy: 1.0\n",
      "Mean accuracy:  0.9846153846153847\n",
      "Cross-validation for Pole Position\n",
      "Fold 0\n",
      "Accuracy: 1.0\n",
      "Fold 1\n",
      "Accuracy: 1.0\n",
      "Fold 2\n",
      "Accuracy: 1.0\n",
      "Fold 3\n",
      "Accuracy: 1.0\n",
      "Fold 4\n",
      "Accuracy: 1.0\n",
      "Mean accuracy:  1.0\n",
      "Cross-validation for Cockpit\n",
      "Fold 0\n",
      "Accuracy: 1.0\n",
      "Fold 1\n",
      "Accuracy: 1.0\n",
      "Fold 2\n",
      "Accuracy: 1.0\n",
      "Fold 3\n",
      "Accuracy: 0.9230769230769231\n",
      "Fold 4\n",
      "Accuracy: 1.0\n",
      "Mean accuracy:  0.9846153846153847\n"
     ]
    }
   ],
   "source": [
    "def cross_validation(clf, X, y):\n",
    "    k_fold = KFold(n_splits=5, shuffle=True)\n",
    "\n",
    "    fold = 0\n",
    "    accs = []\n",
    "\n",
    "    for train_idx, val_idx in k_fold.split(X, y):\n",
    "        X_tr = X.iloc[train_idx]\n",
    "        y_tr = y.iloc[train_idx]\n",
    "\n",
    "        X_tst = X.iloc[val_idx]\n",
    "        y_tst = y.iloc[val_idx]\n",
    "\n",
    "        clf.fit(X_tr, y_tr)\n",
    "        pred = clf.predict(X_tst)\n",
    "        acc_score = accuracy_score(y_tst, pred)\n",
    "        print(f\"Fold {fold}\")\n",
    "        print(f\"Accuracy: {acc_score}\")\n",
    "        accs.append(acc_score)\n",
    "        fold += 1\n",
    "\n",
    "    print(\"Mean accuracy: \", np.mean(accs))\n",
    "\n",
    "\n",
    "def validate_for_each_room(clf, rooms):\n",
    "    for room in rooms:\n",
    "        X, y = get_train_data_for_room(df, features, target, room)\n",
    "        print(f\"Cross-validation for {room}\")\n",
    "        cross_validation(clf,X, y)\n",
    "\n",
    "\n",
    "validate_for_each_room(model_classifier,rooms)"
   ],
   "metadata": {
    "collapsed": false,
    "ExecuteTime": {
     "end_time": "2024-03-16T14:55:42.351160800Z",
     "start_time": "2024-03-16T14:55:39.029237100Z"
    }
   },
   "id": "3adff17a22569a36"
  },
  {
   "cell_type": "code",
   "execution_count": 12,
   "outputs": [
    {
     "name": "stdout",
     "output_type": "stream",
     "text": [
      "   row             desk        date  firstHalf  secondHalf\n",
      "0    1  CLUJ_5_beta_1.1  01/01/2024      False        True\n",
      "1    2  CLUJ_5_beta_1.2  01/01/2024       True       False\n",
      "2    3  CLUJ_5_beta_1.3  01/01/2024      False        True\n",
      "3    4  CLUJ_5_beta_1.4  01/01/2024       True       False\n",
      "4    5  CLUJ_5_beta_2.1  01/01/2024       True        True\n",
      "(8775, 5)\n"
     ]
    }
   ],
   "source": [
    "seats = pd.read_csv(\"hackathon-schema.csv\")\n",
    "print(seats.head())\n",
    "print(seats.shape)"
   ],
   "metadata": {
    "collapsed": false,
    "ExecuteTime": {
     "end_time": "2024-03-16T14:55:42.351160800Z",
     "start_time": "2024-03-16T14:55:42.346029700Z"
    }
   },
   "id": "ae47cc572e00dda5"
  },
  {
   "cell_type": "code",
   "execution_count": 13,
   "outputs": [
    {
     "name": "stdout",
     "output_type": "stream",
     "text": [
      "2193\n",
      "135\n"
     ]
    }
   ],
   "source": [
    "print(len(seats)//4)\n",
    "number_of_desk_groups = 31\n",
    "desks_group_19 = 6\n",
    "desks_group_18 = 5\n",
    "number_of_desks = number_of_desk_groups * 4\n",
    "print(number_of_desks + desks_group_18 + desks_group_19)"
   ],
   "metadata": {
    "collapsed": false,
    "ExecuteTime": {
     "end_time": "2024-03-16T14:55:42.351160800Z",
     "start_time": "2024-03-16T14:55:42.346124600Z"
    }
   },
   "id": "124646062cfd8455"
  },
  {
   "cell_type": "code",
   "execution_count": 14,
   "outputs": [],
   "source": [
    "# CLUJ_5_beta_1.1 -> CLUJ_5_beta_33.4\n",
    "format = \"CLUJ_5_beta_\"\n",
    "\n"
   ],
   "metadata": {
    "collapsed": false,
    "ExecuteTime": {
     "end_time": "2024-03-16T14:55:42.351160800Z",
     "start_time": "2024-03-16T14:55:42.346124600Z"
    }
   },
   "id": "6428f5f17e2c58ec"
  }
 ],
 "metadata": {
  "kernelspec": {
   "display_name": "Python 3",
   "language": "python",
   "name": "python3"
  },
  "language_info": {
   "codemirror_mode": {
    "name": "ipython",
    "version": 2
   },
   "file_extension": ".py",
   "mimetype": "text/x-python",
   "name": "python",
   "nbconvert_exporter": "python",
   "pygments_lexer": "ipython2",
   "version": "2.7.6"
  }
 },
 "nbformat": 4,
 "nbformat_minor": 5
}
